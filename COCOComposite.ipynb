{
 "cells": [
  {
   "cell_type": "code",
   "execution_count": 31,
   "metadata": {
    "tags": [
     "outputPrepend",
     "outputPrepend",
     "outputPrepend",
     "outputPrepend"
    ]
   },
   "outputs": [
    {
     "output_type": "stream",
     "name": "stdout",
     "text": "Number of training examples:  7568908\nNumber of labels:  52\nLabels:  dict_keys(['spoon', 'elephant', 'scissors', 'airplane', 'chair', 'truck', 'cake', 'baseball', 'toothbrush', 'train', 'mouse', 'bus', 'dog', 'bat', 'suitcase', 'pizza', 'car', 'bed', 'fork', 'backpack', 'sink', 'toilet', 'toaster', 'giraffe', 'zebra', 'donut', 'banana', 'couch', 'horse', 'bear', 'sandwich', 'oven', 'carrot', 'sheep', 'broccoli', 'bicycle', 'cat', 'book', 'table', 'umbrella', 'laptop', 'cow', 'clock', 'vase', 'apple', 'keyboard', 'knife', 'microwave', 'bench', 'skateboard', 'cup', 'bird'])\nloading annotations into memory...\nDone (t=0.91s)\ncreating index...\nindex created!\nloading annotations into memory...\nDone (t=0.43s)\ncreating index...\nindex created!\nNum of validation images: 4952\nThe autoreload extension is already loaded. To reload it, use:\n  %reload_ext autoreload\n"
    }
   ],
   "source": [
    "%matplotlib inline\n",
    "from data import data_utils, datasets\n",
    "from pycocotools.coco import COCO\n",
    "import numpy as np\n",
    "import skimage.io as io\n",
    "import matplotlib.pyplot as plt\n",
    "import pylab\n",
    "import cv2\n",
    "from gluoncv import data, utils\n",
    "\n",
    "quick_draw_dataset = datasets.QuickDrawDataset()\n",
    "\n",
    "print('Number of training examples: ', len(quick_draw_dataset))\n",
    "print('Number of labels: ', len(quick_draw_dataset.labels_to_indices))\n",
    "print('Labels: ', quick_draw_dataset.labels_to_indices.keys())\n",
    "#print('Sample label to images:', quick_draw_dataset.labels_to_images['cake'])\n",
    "\n",
    "coco=COCO('/home/phil/basic/PicIt/dataset/cocodata/annotations/instances_val2017.json')\n",
    "val_dataset = data.COCODetection('/home/phil/basic/PicIt/dataset/cocodata',splits=['instances_val2017']) \n",
    "print('Num of validation images:', len(val_dataset))\n",
    "cats = coco.loadCats(coco.getCatIds())\n",
    "\n",
    "%load_ext autoreload\n",
    "%autoreload 2"
   ]
  },
  {
   "cell_type": "code",
   "execution_count": 32,
   "metadata": {},
   "outputs": [],
   "source": [
    "dsize = (224, 224)\n",
    "val_resized = [(cv2.resize(image.asnumpy(), dsize), label) for image, label in val_dataset]"
   ]
  },
  {
   "cell_type": "code",
   "execution_count": 3,
   "metadata": {},
   "outputs": [],
   "source": [
    "# Sanity check: check to see if bounding box locations load\n",
    "val_image, val_label = val_dataset[np.random.randint(1, 4000)]  # Display random image\n",
    "bounding_boxes = val_label[:, :4]\n",
    "bounding_boxes = bounding_boxes.astype(int)\n",
    "class_ids = val_label[:, 4:5]\n",
    "composite_sketch, segmentations, new_boxes, new_classids = data_utils.generate_realistic_sketch(val_image, val_label, val_dataset, quick_draw_dataset)"
   ]
  },
  {
   "cell_type": "code",
   "execution_count": 34,
   "metadata": {},
   "outputs": [
    {
     "output_type": "stream",
     "name": "stdout",
     "text": "done\n"
    }
   ],
   "source": [
    "datasets.create_realistic_composite_dataset(1000, 'val', val_dataset, quick_draw_dataset)\n",
    "print(\"done\")"
   ]
  },
  {
   "cell_type": "code",
   "execution_count": null,
   "metadata": {},
   "outputs": [],
   "source": []
  }
 ],
 "metadata": {
  "language_info": {
   "codemirror_mode": {
    "name": "ipython",
    "version": 3
   },
   "file_extension": ".py",
   "mimetype": "text/x-python",
   "name": "python",
   "nbconvert_exporter": "python",
   "pygments_lexer": "ipython3",
   "version": "3.7.6-final"
  },
  "orig_nbformat": 2,
  "kernelspec": {
   "name": "draw",
   "display_name": "draw"
  }
 },
 "nbformat": 4,
 "nbformat_minor": 2
}